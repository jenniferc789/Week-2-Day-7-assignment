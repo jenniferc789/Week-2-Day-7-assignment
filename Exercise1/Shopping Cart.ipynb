{
 "cells": [
  {
   "cell_type": "markdown",
   "metadata": {},
   "source": [
    "### 1) Build a Shopping Cart <br>\n",
    "<p><b>Should have the following capabilities:</b><br><br>\n",
    "1) Takes in input <br>\n",
    "2) Stores user input into a list <br>\n",
    "3) User can add or delete items <br>\n",
    "4) User can see current shopping list <br>\n",
    "5) Loops until user 'quits' <br>\n",
    "6) Upon quiting the program, print out all items in the user's list <br>\n",
    "</p>"
   ]
  },
  {
   "cell_type": "code",
   "execution_count": null,
   "metadata": {},
   "outputs": [],
   "source": [
    "shop_cart=[]\n",
    "\n",
    "while True:\n",
    "    prompt=input(\"\"\"\n",
    "    what would you like to do to your cart?\n",
    "    enter 'add' to add an item to your cart\n",
    "    enter 'delete' to delete an item from your cart\n",
    "    enter 'show' to see what's in your cart\n",
    "    enter 'checkout' to checkout \"\"\")  \n",
    "    if prompt=='add':\n",
    "        add=input(\"\"\"\n",
    "        what would you like to add to your cart?\n",
    "        please type in a name of an item you would like to add to your cart \"\"\")\n",
    "        shop_cart.append(add)\n",
    "        continue\n",
    "    elif prompt=='delete':\n",
    "        print(shop_cart)\n",
    "        delete=input(\"\"\"\n",
    "        what would you like to delete from your cart?\n",
    "        please type in a name of an item you want to delete from the cart \"\"\")\n",
    "        shop_cart.remove(delete)\n",
    "        continue\n",
    "    elif prompt=='show':\n",
    "        print(shop_cart)\n",
    "        continue\n",
    "    elif prompt=='checkout':\n",
    "        print(shop_cart)\n",
    "        break\n",
    "    else:\n",
    "        continue"
   ]
  },
  {
   "cell_type": "code",
   "execution_count": null,
   "metadata": {},
   "outputs": [],
   "source": []
  }
 ],
 "metadata": {
  "kernelspec": {
   "display_name": "Python 3",
   "language": "python",
   "name": "python3"
  },
  "language_info": {
   "codemirror_mode": {
    "name": "ipython",
    "version": 3
   },
   "file_extension": ".py",
   "mimetype": "text/x-python",
   "name": "python",
   "nbconvert_exporter": "python",
   "pygments_lexer": "ipython3",
   "version": "3.8.3"
  }
 },
 "nbformat": 4,
 "nbformat_minor": 4
}
